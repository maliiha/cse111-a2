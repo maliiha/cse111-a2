{
  "nbformat": 4,
  "nbformat_minor": 0,
  "metadata": {
    "colab": {
      "name": "cse111 a2.ipynb",
      "provenance": [],
      "collapsed_sections": []
    },
    "kernelspec": {
      "name": "python3",
      "display_name": "Python 3"
    },
    "language_info": {
      "name": "python"
    }
  },
  "cells": [
    {
      "cell_type": "markdown",
      "source": [
        "TASK:01"
      ],
      "metadata": {
        "id": "eV3sVQJyygQQ"
      }
    },
    {
      "cell_type": "code",
      "source": [
        "def my_function(x,y):\n",
        "  if(y==0):\n",
        "    print(0)\n",
        "  elif(x%y==0):\n",
        "    print(0)\n",
        "  else:\n",
        "    division=x/y\n",
        "    division1=x//y\n",
        "    print(division-division1)\n",
        "x=int(input(\"Enter a number: \"))\n",
        "y=int(input(\"Enter a number: \"))\n",
        "my_function(x,y)"
      ],
      "metadata": {
        "colab": {
          "base_uri": "https://localhost:8080/"
        },
        "id": "xrAmBMD4yiHG",
        "outputId": "e3977a9e-61d1-42e7-9e1f-f21217ea1f77"
      },
      "execution_count": null,
      "outputs": [
        {
          "output_type": "stream",
          "name": "stdout",
          "text": [
            "Enter a number: 5\n",
            "Enter a number: 2\n",
            "0.5\n"
          ]
        }
      ]
    },
    {
      "cell_type": "markdown",
      "source": [
        "TASK:02"
      ],
      "metadata": {
        "id": "rNoFR3Tz1e_r"
      }
    },
    {
      "cell_type": "code",
      "source": [
        "def amikenomota(height,weight):\n",
        "  meter=height/100\n",
        "  bmi=weight/meter**2\n",
        "  print(\"Score is %.1f\" %bmi,end=\" .\")\n",
        "  if(bmi<18.5):\n",
        "    print(\"You are Underweight\")\n",
        "  elif(18.5<=bmi<=24.9):\n",
        "    print(\"You are Normal\")\n",
        "  elif(25<=bmi<=30):\n",
        "    print(\"You are Overweight\")\n",
        "  elif(bmi>30):\n",
        "    print(\"You are Obese\")   \n",
        "height=int(input(\"Enter your height in centimeters: \"))\n",
        "weight=int(input(\"Enter your weight in kilograms: \"))\n",
        "amikenomota(height,weight)"
      ],
      "metadata": {
        "colab": {
          "base_uri": "https://localhost:8080/"
        },
        "id": "UwLeC8sJ1mvx",
        "outputId": "92eb40c0-5391-4939-f1ec-3ad7a5af478f"
      },
      "execution_count": null,
      "outputs": [
        {
          "output_type": "stream",
          "name": "stdout",
          "text": [
            "Enter your height in centimeters: 152\n",
            "Enter your weight in kilograms: 48\n",
            "Score is 20.8 .You are Normal\n"
          ]
        }
      ]
    },
    {
      "cell_type": "markdown",
      "source": [
        "TASK:03"
      ],
      "metadata": {
        "id": "_mjoctBN7zeP"
      }
    },
    {
      "cell_type": "code",
      "source": [
        "def my_function(minimum,maximum,divisor):\n",
        "  counter=0\n",
        "  for i in range(minimum,maximum):\n",
        "    if(i%divisor==0):\n",
        "      counter+=i\n",
        "  print(counter)\n",
        "minimum=int(input(\"Enter the minimum value: \"))\n",
        "maximum=int(input(\"Enter the maximum value: \"))\n",
        "divisor=int(input(\"Enter the divisor: \"))\n",
        "my_function(minimum,maximum,divisor)"
      ],
      "metadata": {
        "colab": {
          "base_uri": "https://localhost:8080/"
        },
        "id": "I2FopPrH73DH",
        "outputId": "0a5dd790-dafb-4733-9cbb-b7a0fc987f61"
      },
      "execution_count": null,
      "outputs": [
        {
          "output_type": "stream",
          "name": "stdout",
          "text": [
            "Enter the minimum value: 0\n",
            "Enter the maximum value: 10\n",
            "Enter the divisor: 2\n",
            "20\n"
          ]
        }
      ]
    },
    {
      "cell_type": "markdown",
      "source": [
        "TASK:04\n",
        "\n"
      ],
      "metadata": {
        "id": "cB999pB6-Y3Z"
      }
    },
    {
      "cell_type": "code",
      "source": [
        "def chillox(burger,place=\"Mohakhali\"):\n",
        "  if(place==\"Mohakhali\" or place==\"\"):\n",
        "    if(burger==\"BBQ Chicken Cheese Burger\"):\n",
        "      amount=250+40+250*0.08\n",
        "    elif(burger==\"Beef Burger\"):\n",
        "      amount=170+40+170*0.08\n",
        "    elif(burger==\"Naga Drums\"):\n",
        "      amount=200+40+200*0.08\n",
        "  else:\n",
        "    if(burger==\"BBQ Chicken Cheese Burger\"):\n",
        "      amount=250+60+250*0.08\n",
        "    elif(burger==\"Beef Burger\"):\n",
        "      amount=170+60+170*0.08\n",
        "    elif(burger==\"Naga Drums\"):\n",
        "      amount=200+60+200*0.08\n",
        "  print(amount)\n",
        "burger=input(\"Enter the name of the burger: \")\n",
        "place=input(\"Enter the name of the place: \")\n",
        "chillox(burger,place) "
      ],
      "metadata": {
        "colab": {
          "base_uri": "https://localhost:8080/"
        },
        "id": "AJixTw8--at2",
        "outputId": "d1342383-f05d-4d11-bdbc-f209c0f5d194"
      },
      "execution_count": null,
      "outputs": [
        {
          "output_type": "stream",
          "name": "stdout",
          "text": [
            "Enter the name of the burger: Beef Burger\n",
            "Enter the name of the place: Dhanmondi\n",
            "243.6\n"
          ]
        }
      ]
    },
    {
      "cell_type": "markdown",
      "source": [
        "TASK:05"
      ],
      "metadata": {
        "id": "uZ8uj7LIGRXF"
      }
    },
    {
      "cell_type": "code",
      "source": [
        "def replace_domain(check,new,old=\"kaaj.com\"):\n",
        "  if(old in check):\n",
        "    for i in check:\n",
        "      if(i==\"@\"):\n",
        "        location=check.find(i)\n",
        "    print(\"Changed: \",check[0:location+1]+new)\n",
        "  else:\n",
        "    print(\"Unchanged: \",check)\n",
        "check=input(\"Enter the email address: \")\n",
        "new=input(\"Enter the new domain: \")\n",
        "old=input(\"Enter the old domain: \")\n",
        "replace_domain(check,new,old)"
      ],
      "metadata": {
        "colab": {
          "base_uri": "https://localhost:8080/"
        },
        "id": "hL_JoF2HGSgH",
        "outputId": "e3453e33-4b47-4791-98e7-78e48b3dc693"
      },
      "execution_count": null,
      "outputs": [
        {
          "output_type": "stream",
          "name": "stdout",
          "text": [
            "Enter the email address: alice@kaaj.com\n",
            "Enter the new domain: sheba.xyz\n",
            "Enter the old domain: \n",
            "Changed:  alice@sheba.xyz\n"
          ]
        }
      ]
    },
    {
      "cell_type": "markdown",
      "source": [
        "TASK:06\n",
        "\n"
      ],
      "metadata": {
        "id": "KhuNAzs1Mqul"
      }
    },
    {
      "cell_type": "code",
      "source": [
        "def my_function(name):\n",
        "  vowels=[\"a\",\"e\",\"i\",\"o\",\"u\"]\n",
        "  vowel=\"\"\n",
        "  counter=0\n",
        "  for i in name:\n",
        "    if(i in vowels):\n",
        "      counter+=1\n",
        "      if(vowel==\"\"):\n",
        "        vowel+=i\n",
        "      else:\n",
        "        vowel=vowel+\",\"+i\n",
        "  if(counter==0):\n",
        "    print(\"No vowels in the name.\")\n",
        "  else:\n",
        "    print(\"Vowels: \",vowel+\".\",\"Total number of vowels: \",counter)\n",
        "name=input(\"Enter your name: \")\n",
        "my_function(name)"
      ],
      "metadata": {
        "colab": {
          "base_uri": "https://localhost:8080/"
        },
        "id": "UND0sEZ8MtOO",
        "outputId": "fc74800a-7fa9-4978-ec13-b1c22c7a823a"
      },
      "execution_count": null,
      "outputs": [
        {
          "output_type": "stream",
          "name": "stdout",
          "text": [
            "Enter your name: Steve Jobs\n",
            "Vowels:  e,e,o. Total number of vowels:  3\n"
          ]
        }
      ]
    },
    {
      "cell_type": "markdown",
      "source": [
        "TASK:07\n",
        "\n"
      ],
      "metadata": {
        "id": "oiLoQMRJiLm4"
      }
    },
    {
      "cell_type": "code",
      "source": [
        "x=input(\"Enter anything: \")\n",
        "new=\"\"\n",
        "if(\" \" in x):\n",
        "  for i in x:\n",
        "    if(i==\" \"):\n",
        "      pass\n",
        "    else:\n",
        "      new+=i\n",
        "  reverse=new[::-1]\n",
        "  if(reverse==new):\n",
        "      print(\"Palindrome\")\n",
        "  else:\n",
        "      print(\"Not a Palindrome\")\n",
        "else:\n",
        "  reverse=x[::-1]\n",
        "  if(reverse==x):\n",
        "    print(\"Palindrome\")\n",
        "  else:\n",
        "    print(\"Not a Palindrome\")"
      ],
      "metadata": {
        "colab": {
          "base_uri": "https://localhost:8080/"
        },
        "id": "bhL6mnHCimpg",
        "outputId": "84492db0-b3c2-4fc9-82c0-139baf95ff44"
      },
      "execution_count": null,
      "outputs": [
        {
          "output_type": "stream",
          "name": "stdout",
          "text": [
            "Enter anything: nurses run\n",
            "Palindrome\n"
          ]
        }
      ]
    },
    {
      "cell_type": "markdown",
      "source": [
        "TASK:08"
      ],
      "metadata": {
        "id": "8eDsTlJs7DHR"
      }
    },
    {
      "cell_type": "code",
      "source": [
        "def my_function(day):\n",
        "  year=day//365\n",
        "  r_month=day-(year*365)\n",
        "  month=r_month//30\n",
        "  r_day=r_month-(month*30)\n",
        "  print(f\"{year} years, {month} months and {r_day} days\")\n",
        "day=int(input(\"Enter the number of days: \"))\n",
        "my_function(day)  "
      ],
      "metadata": {
        "id": "S-XQZ2hh7EkY",
        "colab": {
          "base_uri": "https://localhost:8080/"
        },
        "outputId": "c8bb70a4-a42c-4e11-fbf9-5c5317118cfb"
      },
      "execution_count": null,
      "outputs": [
        {
          "output_type": "stream",
          "name": "stdout",
          "text": [
            "Enter the number of days: 4000\n",
            "10 years, 11 months and 20 days\n"
          ]
        }
      ]
    },
    {
      "cell_type": "markdown",
      "source": [
        "TASK:09"
      ],
      "metadata": {
        "id": "HimbBFoQ_NLJ"
      }
    },
    {
      "cell_type": "code",
      "source": [
        "def capitalize(string):\n",
        "  new=\"\"\n",
        "  flag=False\n",
        "  for letter in range(len(string)):\n",
        "    if(letter==0):\n",
        "      update=string[letter].upper()\n",
        "      new+=update\n",
        "    elif(string[letter]==\".\" or string[letter]==\"!\" or string[letter]==\"?\"):\n",
        "      flag=True\n",
        "      new+=string[letter]\n",
        "    elif(chr(97)<=string[letter]<=chr(122) and flag==True):\n",
        "      update=string[letter].upper()\n",
        "      new+=update\n",
        "      flag=False\n",
        "    elif(string[letter]==\"i\" and string[letter+1]==\" \" and string[letter-1]==\" \"):\n",
        "      update=string[letter].upper()\n",
        "      new+=update\n",
        "    else:\n",
        "      new+=string[letter]\n",
        "  print(new)\n",
        "string=input(\"Enter anything: \")\n",
        "capitalize(string)"
      ],
      "metadata": {
        "colab": {
          "base_uri": "https://localhost:8080/"
        },
        "id": "DeOcl8Er_LUE",
        "outputId": "7b720c54-6ef4-4791-af17-6d19fd6380c0"
      },
      "execution_count": null,
      "outputs": [
        {
          "output_type": "stream",
          "name": "stdout",
          "text": [
            "Enter anything: my favourite animal is a dog. a dog has sharp teeth so that it can eat flesh very easily. do you know my pet dog’s name? i love my pet very much.\n",
            "My favourite animal is a dog. A dog has sharp teeth so that it can eat flesh very easily. Do you know my pet dog’s name? I love my pet very much.\n"
          ]
        }
      ]
    }
  ]
}