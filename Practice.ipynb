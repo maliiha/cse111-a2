{
  "nbformat": 4,
  "nbformat_minor": 0,
  "metadata": {
    "colab": {
      "provenance": [],
      "authorship_tag": "ABX9TyMim8RRFTBBwtzaMYPz3DWC",
      "include_colab_link": true
    },
    "kernelspec": {
      "name": "python3",
      "display_name": "Python 3"
    },
    "language_info": {
      "name": "python"
    }
  },
  "cells": [
    {
      "cell_type": "markdown",
      "metadata": {
        "id": "view-in-github",
        "colab_type": "text"
      },
      "source": [
        "<a href=\"https://colab.research.google.com/github/maliiha/cse111-a2/blob/main/Practice.ipynb\" target=\"_parent\"><img src=\"https://colab.research.google.com/assets/colab-badge.svg\" alt=\"Open In Colab\"/></a>"
      ]
    },
    {
      "cell_type": "markdown",
      "source": [
        "Implement a recursive algorithm to find factorial of n.   "
      ],
      "metadata": {
        "id": "MG7oBHNVwRIC"
      }
    },
    {
      "cell_type": "code",
      "execution_count": null,
      "metadata": {
        "colab": {
          "base_uri": "https://localhost:8080/"
        },
        "id": "rVurT4xyvUp7",
        "outputId": "3daed67d-a2d8-4b4e-c1a5-0df2b762a085"
      },
      "outputs": [
        {
          "output_type": "execute_result",
          "data": {
            "text/plain": [
              "362880"
            ]
          },
          "metadata": {},
          "execution_count": 3
        }
      ],
      "source": [
        "def factorial(n):\n",
        "  if(n==2):\n",
        "    return n\n",
        "  else:\n",
        "    return n * factorial(n-1)\n",
        "factorial(9)"
      ]
    },
    {
      "cell_type": "markdown",
      "source": [
        "Implement a recursive algorithm to find the n-th Fibonacci number."
      ],
      "metadata": {
        "id": "zGDvmdrBwU-W"
      }
    },
    {
      "cell_type": "code",
      "source": [
        "def fibonacci(n):\n",
        "  if(0<=n<=1):\n",
        "    return n\n",
        "  else:\n",
        "    return fibonacci(n-1) + fibonacci(n-2)\n",
        "fibonacci(3)"
      ],
      "metadata": {
        "colab": {
          "base_uri": "https://localhost:8080/"
        },
        "id": "SMhRNzBawWOj",
        "outputId": "8241077b-5602-4cce-bdda-56c8e3d84f98"
      },
      "execution_count": null,
      "outputs": [
        {
          "output_type": "execute_result",
          "data": {
            "text/plain": [
              "2"
            ]
          },
          "metadata": {},
          "execution_count": 6
        }
      ]
    },
    {
      "cell_type": "markdown",
      "source": [
        "Print all the elements of a given array recursively."
      ],
      "metadata": {
        "id": "yYc4HElHwz5t"
      }
    },
    {
      "cell_type": "code",
      "source": [
        "def printt(arr,i):\n",
        "  if(len(arr)==i):\n",
        "    return \n",
        "  else:\n",
        "    print(arr[i])\n",
        "    return printt(arr,i+1)\n",
        "printt([10,20,30,40],0)"
      ],
      "metadata": {
        "colab": {
          "base_uri": "https://localhost:8080/"
        },
        "id": "DkShhNl2w0wO",
        "outputId": "1b04603f-c963-4d75-9316-73ff0405e9f4"
      },
      "execution_count": null,
      "outputs": [
        {
          "output_type": "stream",
          "name": "stdout",
          "text": [
            "10\n",
            "20\n",
            "30\n",
            "40\n"
          ]
        }
      ]
    },
    {
      "cell_type": "markdown",
      "source": [
        "Given base and n that are both 1 or more, compute recursively (no loops) the value of base  to the n power, so powerN(3, 2) is 9 (3 squared). \n",
        "powerN(3, 1) → 3 \n",
        "powerN(3, 2) → 9 \n",
        "powerN(3, 3) → 27 \n",
        "\n",
        "\n",
        "\n",
        "\n"
      ],
      "metadata": {
        "id": "1ALGkWWtxTdA"
      }
    },
    {
      "cell_type": "code",
      "source": [
        "def pow(base,n):\n",
        "  if(n==1):\n",
        "    return base\n",
        "  else:\n",
        "    return n * pow(base,n-1)\n",
        "pow(3,2)"
      ],
      "metadata": {
        "colab": {
          "base_uri": "https://localhost:8080/"
        },
        "id": "w4SqicQDxT_x",
        "outputId": "dbb890ff-933d-4b8c-912b-ce78667de523"
      },
      "execution_count": null,
      "outputs": [
        {
          "output_type": "execute_result",
          "data": {
            "text/plain": [
              "6"
            ]
          },
          "metadata": {},
          "execution_count": 13
        }
      ]
    },
    {
      "cell_type": "markdown",
      "source": [
        "Implement a recursive algorithm that takes a decimal number n and converts n to its corresponding (you may return as a string) binary number."
      ],
      "metadata": {
        "id": "_p58ndpCx6EK"
      }
    },
    {
      "cell_type": "code",
      "source": [
        "def dectobin(dec):\n",
        "  if(dec==0):\n",
        "    return 0\n",
        "  else:\n",
        "    return int(str(dectobin(dec//2))+str(dec%2))\n",
        "dectobin(15)"
      ],
      "metadata": {
        "colab": {
          "base_uri": "https://localhost:8080/"
        },
        "id": "M7NipuL9x9L5",
        "outputId": "55e782f5-dad4-49db-bcaa-4bd4ebb0ba68"
      },
      "execution_count": 6,
      "outputs": [
        {
          "output_type": "execute_result",
          "data": {
            "text/plain": [
              "1111"
            ]
          },
          "metadata": {},
          "execution_count": 6
        }
      ]
    },
    {
      "cell_type": "markdown",
      "source": [
        "Binary to decimal"
      ],
      "metadata": {
        "id": "Vyb25AOfJlZB"
      }
    },
    {
      "cell_type": "code",
      "source": [],
      "metadata": {
        "id": "rBdwaQ_-JnM2"
      },
      "execution_count": 1,
      "outputs": []
    }
  ]
}